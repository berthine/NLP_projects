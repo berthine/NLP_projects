{
 "cells": [
  {
   "cell_type": "code",
   "execution_count": 48,
   "metadata": {},
   "outputs": [],
   "source": [
    "import io, sys, math, re\n",
    "from collections import defaultdict\n",
    "import numpy as np"
   ]
  },
  {
   "cell_type": "code",
   "execution_count": 49,
   "metadata": {},
   "outputs": [],
   "source": [
    "# dataloader\n",
    "\n",
    "def load_data(filename):\n",
    "    fin = io.open(filename, 'r', encoding='utf-8')\n",
    "    data = []\n",
    "    vocab = defaultdict(lambda:0)\n",
    "    for line in fin:\n",
    "        sentence = line.split()\n",
    "        data.append(sentence)\n",
    "        for word in sentence:\n",
    "            vocab[word] += 1\n",
    "    return data, vocab"
   ]
  },
  {
   "cell_type": "code",
   "execution_count": 50,
   "metadata": {},
   "outputs": [],
   "source": [
    "def remove_rare_words(data, vocab, mincount):\n",
    "    ## FILL CODE\n",
    "    # replace words in data that are not in the vocab \n",
    "    # or have a count that is below mincount\n",
    "    data_with_unk = data[:]\n",
    "    for w1, sentence  in enumerate(data):\n",
    "        for w2, word in enumerate(sentence):\n",
    "            if vocab[word] < mincount or word not in vocab :\n",
    "                data_with_unk[w1][w2] = '<unk>'\n",
    "            \n",
    "    \n",
    "    return data_with_unk\n"
   ]
  },
  {
   "cell_type": "code",
   "execution_count": 51,
   "metadata": {},
   "outputs": [
    {
     "name": "stdout",
     "output_type": "stream",
     "text": [
      "load training set\n",
      "load validation set\n"
     ]
    }
   ],
   "source": [
    "# LOAD DATA\n",
    "print(\"load training set\")\n",
    "train_data, vocab = load_data(\"train2.txt\")\n",
    "## FILL CODE \n",
    "# If you have a Out of Vocabulary error (OOV) \n",
    "# call the function \"remove_rare_words\" to replace \n",
    "# rare words with <unk> in the dataset\n",
    "train_data = remove_rare_words(train_data, vocab, mincount=15)\n",
    "\n",
    "print(\"load validation set\")\n",
    "valid_data, _ = load_data(\"valid2.txt\")\n",
    "## FILL CODE \n",
    "# If you have a Out of Vocabulary error (OOV) \n",
    "# call the function \"remove_rare_words\" to replace \n",
    "# OOV with <unk> in the dataset\n",
    "valid_data = remove_rare_words(valid_data, vocab, mincount=15)"
   ]
  },
  {
   "cell_type": "code",
   "execution_count": 34,
   "metadata": {},
   "outputs": [],
   "source": [
    "# for sentence in train_data:\n",
    "#         sentence = tuple(sentence)\n",
    "#         total_number_words +=len(sentence)\n",
    "\n",
    "# #         for i, words in enumerate(sentence):\n",
    "            \n",
    "\n",
    "#         print(total_number_words)"
   ]
  },
  {
   "cell_type": "code",
   "execution_count": 35,
   "metadata": {},
   "outputs": [],
   "source": [
    "import ipdb"
   ]
  },
  {
   "cell_type": "code",
   "execution_count": 52,
   "metadata": {},
   "outputs": [],
   "source": [
    "def build_ngram(data, n):\n",
    "    total_number_words = 0\n",
    "    counts = defaultdict(lambda: defaultdict(lambda: 0.0))\n",
    "\n",
    "    for sentence in data:\n",
    "        sentence = tuple(sentence)\n",
    "        ## FILL CODE\n",
    "        # dict can be indexed by tuples\n",
    "        # store in the same dict all the ngrams\n",
    "        # by using the context as a key and the word as a value\n",
    "        for j in range(n):\n",
    "            for i in range(len(sentence)-j):\n",
    "                total_number_words +=1\n",
    "                counts[sentence[i:(i+j)]][sentence[i+j]] +=1\n",
    "    total_number_words = total_number_words / n\n",
    "            \n",
    "#             ipdb.set_trace()\n",
    "        \n",
    "\n",
    "    prob  = defaultdict(lambda: defaultdict(lambda: 0.0))\n",
    "    ## FILL CODE\n",
    "    # Build the probabilities from the counts\n",
    "    # Be careful with how you normalize!\n",
    "    \n",
    "    for  word  in counts:\n",
    "        for w in counts[word]:\n",
    "            prob[word][w] = counts[word][w]/sum(counts[word].values())\n",
    "\n",
    "    return prob"
   ]
  },
  {
   "cell_type": "code",
   "execution_count": 57,
   "metadata": {},
   "outputs": [
    {
     "name": "stdout",
     "output_type": "stream",
     "text": [
      "build ngram model with n =  2\n"
     ]
    }
   ],
   "source": [
    "# RUN TO BUILD NGRAM MODEL\n",
    "\n",
    "n = 2\n",
    "print(\"build ngram model with n = \", n)\n",
    "model = build_ngram(train_data, n)\n",
    "model;"
   ]
  },
  {
   "cell_type": "code",
   "execution_count": 60,
   "metadata": {},
   "outputs": [],
   "source": [
    "def get_prob(model, context, w):\n",
    "    ## FILL CODE\n",
    "    # code a recursive function over \n",
    "    # smaller and smaller context\n",
    "    # to compute the backoff model\n",
    "    # Bonus: You can also code an interpolation model this way\n",
    "    if model[context][w] !=0:\n",
    "        return model[context][w]\n",
    "    else :\n",
    "        return 0.4*get_prob(model, context[1:],w)\n",
    "        \n",
    "        \n",
    "\n",
    "def perplexity(model, data, n):\n",
    "    ## FILL CODE\n",
    "    # Same as bigram.py\n",
    "    perp = 0\n",
    "    for sentence in data:\n",
    "        sentence = tuple(sentence)\n",
    "        prob = 0\n",
    "        for i in range(1, len(sentence)):\n",
    "            if i>= n-1:\n",
    "                prob += np.log(get_prob(model, sentence[i-n+1:i], sentence[i]))\n",
    "            else:\n",
    "                prob += np.log(get_prob(model, sentence[:i], sentence[i]))\n",
    "        prob = -prob/len(sentence)\n",
    "        perp += prob\n",
    "    \n",
    "    return np.exp(perp/len(data))"
   ]
  },
  {
   "cell_type": "code",
   "execution_count": 61,
   "metadata": {},
   "outputs": [
    {
     "name": "stdout",
     "output_type": "stream",
     "text": [
      "The perplexity is 32.21820986937871\n"
     ]
    }
   ],
   "source": [
    "# COMPUTE PERPLEXITY ON VALIDATION SET\n",
    "\n",
    "print(\"The perplexity is\", perplexity(model, valid_data, n))"
   ]
  },
  {
   "cell_type": "code",
   "execution_count": 56,
   "metadata": {},
   "outputs": [],
   "source": [
    "def get_proba_distrib(model, context):\n",
    "    ## FILL CODE\n",
    "    # code a recursive function over context\n",
    "    # to find the longest available ngram \n",
    "    if context  in model:\n",
    "        return context\n",
    "    else:\n",
    "        return get_proba_distrib(model, context[1:])\n",
    "\n",
    "def generate(model):\n",
    "    ## FILL CODE\n",
    "    # generate a sentence. A sentence starts with a <s> and ends with a </s>\n",
    "    # Possiblly a use function is:\n",
    "    #   np.random.choice(x, 1, p = y)\n",
    "    # where x is a list of things to sample from\n",
    "    # and y is a list of probability (of the same length as x)\n",
    "    sentence = ['<s>']\n",
    "    for length_sentence in range(20):\n",
    "        if sentence[-1]=='</s>':\n",
    "            break\n",
    "        x= list(model[get_proba_distrib(model, tuple(sentence))].keys())\n",
    "        y= list(model[get_proba_distrib(model, tuple(sentence))].values())\n",
    "        word = np.random.choice(x, 1, p=y)\n",
    "        sentence.append(word[0])\n",
    "    if sentence[-1] !='</s>':\n",
    "        sentence.append('</s>')\n",
    "    return sentence"
   ]
  },
  {
   "cell_type": "code",
   "execution_count": 47,
   "metadata": {},
   "outputs": [
    {
     "name": "stdout",
     "output_type": "stream",
     "text": [
      "Generated sentence:  ['<s>', 'he', '<unk>', 'his', '<unk>', '<unk>', 'in', '<unk>', 'the', 'same', '<unk>', '</s>']\n"
     ]
    }
   ],
   "source": [
    "# GENERATE A SENTENCE FROM THE MODEL\n",
    "\n",
    "print(\"Generated sentence: \",generate(model))"
   ]
  },
  {
   "cell_type": "code",
   "execution_count": null,
   "metadata": {},
   "outputs": [],
   "source": []
  }
 ],
 "metadata": {
  "kernelspec": {
   "display_name": "Python 3",
   "language": "python",
   "name": "python3"
  },
  "language_info": {
   "codemirror_mode": {
    "name": "ipython",
    "version": 3
   },
   "file_extension": ".py",
   "mimetype": "text/x-python",
   "name": "python",
   "nbconvert_exporter": "python",
   "pygments_lexer": "ipython3",
   "version": "3.7.4"
  }
 },
 "nbformat": 4,
 "nbformat_minor": 4
}
